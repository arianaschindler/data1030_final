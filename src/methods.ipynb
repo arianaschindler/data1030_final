{
 "cells": [
  {
   "cell_type": "markdown",
   "id": "0c9bfac4",
   "metadata": {},
   "source": [
    "## Methods"
   ]
  },
  {
   "cell_type": "markdown",
   "id": "ef205f0b",
   "metadata": {},
   "source": [
    "Making sure we are in the data1030 environment before proceeding."
   ]
  },
  {
   "cell_type": "code",
   "execution_count": 3,
   "id": "ff1d0da5",
   "metadata": {
    "scrolled": true
   },
   "outputs": [
    {
     "name": "stdout",
     "output_type": "stream",
     "text": [
      "\u001b[42m[ OK ]\u001b[0m Python version is 3.10.5\n",
      "\n",
      "\u001b[42m[ OK ]\u001b[0m numpy version 1.22.4 is installed.\n",
      "\u001b[42m[ OK ]\u001b[0m matplotlib version 3.5.2 is installed.\n",
      "\u001b[42m[ OK ]\u001b[0m sklearn version 1.1.1 is installed.\n",
      "\u001b[42m[ OK ]\u001b[0m pandas version 1.4.2 is installed.\n",
      "\u001b[42m[ OK ]\u001b[0m xgboost version 1.5.1 is installed.\n",
      "\u001b[42m[ OK ]\u001b[0m shap version 0.40.0 is installed.\n"
     ]
    }
   ],
   "source": [
    "from __future__ import print_function\n",
    "from packaging.version import parse as Version\n",
    "from platform import python_version\n",
    "\n",
    "OK = '\\x1b[42m[ OK ]\\x1b[0m'\n",
    "FAIL = \"\\x1b[41m[FAIL]\\x1b[0m\"\n",
    "\n",
    "try:\n",
    "    import importlib\n",
    "except ImportError:\n",
    "    print(FAIL, \"Python version 3.10 is required,\"\n",
    "                \" but %s is installed.\" % sys.version)\n",
    "\n",
    "def import_version(pkg, min_ver, fail_msg=\"\"):\n",
    "    mod = None\n",
    "    try:\n",
    "        mod = importlib.import_module(pkg)\n",
    "        if pkg in {'PIL'}:\n",
    "            ver = mod.VERSION\n",
    "        else:\n",
    "            ver = mod.__version__\n",
    "        if Version(ver) == Version(min_ver):\n",
    "            print(OK, \"%s version %s is installed.\"\n",
    "                  % (lib, min_ver))\n",
    "        else:\n",
    "            print(FAIL, \"%s version %s is required, but %s installed.\"\n",
    "                  % (lib, min_ver, ver))    \n",
    "    except ImportError:\n",
    "        print(FAIL, '%s not installed. %s' % (pkg, fail_msg))\n",
    "    return mod\n",
    "\n",
    "\n",
    "# first check the python version\n",
    "pyversion = Version(python_version())\n",
    "\n",
    "if pyversion >= Version(\"3.10\"):\n",
    "    print(OK, \"Python version is %s\" % pyversion)\n",
    "elif pyversion < Version(\"3.10\"):\n",
    "    print(FAIL, \"Python version 3.10 is required,\"\n",
    "                \" but %s is installed.\" % pyversion)\n",
    "else:\n",
    "    print(FAIL, \"Unknown Python version: %s\" % pyversion)\n",
    "\n",
    "    \n",
    "print()\n",
    "requirements = {'numpy': \"1.22.4\", 'matplotlib': \"3.5.2\",'sklearn': \"1.1.1\", \n",
    "                'pandas': \"1.4.2\",'xgboost': \"1.5.1\", 'shap': \"0.40.0\"}\n",
    "\n",
    "# now the dependencies\n",
    "for lib, required_version in list(requirements.items()):\n",
    "    import_version(lib, required_version)"
   ]
  },
  {
   "cell_type": "markdown",
   "id": "ec187305",
   "metadata": {},
   "source": [
    "### Importing Packages and Data"
   ]
  },
  {
   "cell_type": "code",
   "execution_count": 4,
   "id": "aa94b151",
   "metadata": {},
   "outputs": [],
   "source": [
    "#important packages\n",
    "import pandas as pd\n",
    "import numpy as np\n",
    "import scipy.stats as st \n",
    "\n",
    "#visualization packages\n",
    "import matplotlib as mpl\n",
    "import matplotlib.pyplot as plt\n",
    "import seaborn as sns\n",
    "\n",
    "#preprocessing packages\n",
    "from sklearn.compose import ColumnTransformer\n",
    "from sklearn.pipeline import Pipeline, make_pipeline\n",
    "from sklearn.preprocessing import StandardScaler, OneHotEncoder\n",
    "\n",
    "#model selection packages\n",
    "from sklearn.model_selection import train_test_split, GridSearchCV, KFold, ParameterGrid\n",
    "from sklearn.model_selection import ParameterGrid\n",
    "\n",
    "#import metrics\n",
    "from sklearn.metrics import mean_squared_error, r2_score, accuracy_score\n",
    "import math\n",
    "from math import sqrt\n",
    "\n",
    "#model packages\n",
    "from sklearn.linear_model import Lasso, Ridge, ElasticNet\n",
    "from sklearn.ensemble import RandomForestRegressor\n",
    "from sklearn.svm import SVR\n",
    "from sklearn.neighbors import KNeighborsRegressor\n",
    "import xgboost\n",
    "\n",
    "import warnings\n",
    "warnings.filterwarnings('ignore')"
   ]
  },
  {
   "cell_type": "code",
   "execution_count": 5,
   "id": "321ee840",
   "metadata": {},
   "outputs": [],
   "source": [
    "#loading in the dataframe from EDA\n",
    "%store -r df"
   ]
  },
  {
   "cell_type": "markdown",
   "id": "7e5ac725",
   "metadata": {},
   "source": [
    "### Splitting"
   ]
  },
  {
   "cell_type": "code",
   "execution_count": 7,
   "id": "3649d518",
   "metadata": {},
   "outputs": [],
   "source": [
    "#identifying our target variable y\n",
    "y = df['distress_score']\n",
    "#all other columns are features \n",
    "X = df.loc[:, df.columns != 'distress_score'] "
   ]
  },
  {
   "cell_type": "markdown",
   "id": "f2ced6c8",
   "metadata": {},
   "source": [
    "We can perform a basic split because we have iid data, no time series, and no group structure."
   ]
  },
  {
   "cell_type": "code",
   "execution_count": 70,
   "id": "aa586647",
   "metadata": {},
   "outputs": [
    {
     "name": "stdout",
     "output_type": "stream",
     "text": [
      "X_train shape before preprocessing: (15459, 19)\n",
      "X_val shape before preprocessing: (5153, 19)\n",
      "X_test shape before preprocessing: (5154, 19)\n"
     ]
    }
   ],
   "source": [
    "#splitting the data\n",
    "random_state = 42\n",
    "\n",
    "#first split to separate out the training set\n",
    "X_train, X_other, y_train, y_other = train_test_split(X,y,train_size = 0.6, random_state = random_state)\n",
    "\n",
    "#second split to separate out the validation and test sets\n",
    "X_val, X_test, y_val, y_test = train_test_split(X_other,y_other, train_size = 0.5, random_state = random_state)\n",
    "    \n",
    "print('X_train shape before preprocessing:', X_train.shape)\n",
    "print('X_val shape before preprocessing:', X_val.shape)\n",
    "print('X_test shape before preprocessing:', X_test.shape)"
   ]
  },
  {
   "cell_type": "markdown",
   "id": "a01261b0",
   "metadata": {},
   "source": [
    "#### Baseline"
   ]
  },
  {
   "cell_type": "code",
   "execution_count": 71,
   "id": "fe4df771",
   "metadata": {},
   "outputs": [],
   "source": [
    "#identifying our target variable y\n",
    "y = df['distress_score']\n",
    "\n",
    "#getting the mean of our target\n",
    "y_bar = np.mean(y)\n",
    "y_bar = np.repeat(y_bar, len(y))"
   ]
  },
  {
   "cell_type": "code",
   "execution_count": 99,
   "id": "9fcaab84",
   "metadata": {},
   "outputs": [],
   "source": [
    "baseline = np.sqrt(mean_squared_error(y, y_bar))"
   ]
  },
  {
   "cell_type": "code",
   "execution_count": 100,
   "id": "43d1eb32",
   "metadata": {},
   "outputs": [
    {
     "name": "stdout",
     "output_type": "stream",
     "text": [
      "The Baseline rmse score is a distress score of: 28.8674814735777\n"
     ]
    }
   ],
   "source": [
    "print('The Baseline rmse score is a distress score of:', baseline)"
   ]
  },
  {
   "cell_type": "markdown",
   "id": "31a6a3db",
   "metadata": {},
   "source": [
    "### Preprocessing"
   ]
  },
  {
   "cell_type": "code",
   "execution_count": 74,
   "id": "01ee074c",
   "metadata": {},
   "outputs": [
    {
     "data": {
      "text/plain": [
       "Index(['state', 'census_region', 'community_class', 'total_population',\n",
       "       '%_adults_wo_hs', 'poverty_rate', '%_adults_not_employed',\n",
       "       'vacancy_rate', 'median_income_ratio', '%_change_in_employment',\n",
       "       '%_change_in_establishments', '%_pop_non_hispanic_white',\n",
       "       '%_pop_hispanic_or_latino', '%_pop_black_or_african_american',\n",
       "       '%_pop_american_indian_or_alaska_native',\n",
       "       '%_pop_asian_or_pacific_islander', '%_pop_other_race',\n",
       "       '%_pop_foreign_born', '%_pop_bachelors_degree_or_higher'],\n",
       "      dtype='object')"
      ]
     },
     "execution_count": 74,
     "metadata": {},
     "output_type": "execute_result"
    }
   ],
   "source": [
    "#checking out columns to create lists of types of features\n",
    "X.columns"
   ]
  },
  {
   "cell_type": "code",
   "execution_count": 75,
   "id": "4b9c66b2",
   "metadata": {},
   "outputs": [],
   "source": [
    "#list of our features by what transformer they need\n",
    "onehot_ftrs = ['state', 'census_region', 'community_class']\n",
    "\n",
    "std_ftrs = ['total_population', '%_adults_wo_hs', 'poverty_rate', \\\n",
    "            '%_adults_not_employed', 'vacancy_rate', 'median_income_ratio', \\\n",
    "            '%_change_in_employment', '%_change_in_establishments', \\\n",
    "            '%_pop_non_hispanic_white', '%_pop_hispanic_or_latino', \\\n",
    "            '%_pop_black_or_african_american', '%_pop_american_indian_or_alaska_native', \\\n",
    "            '%_pop_asian_or_pacific_islander', '%_pop_other_race', '%_pop_foreign_born', \\\n",
    "            '%_pop_bachelors_degree_or_higher']\n",
    "\n",
    "\n",
    "#collecting all the encoders\n",
    "preprocessor = ColumnTransformer(\n",
    "    transformers=[\n",
    "        ('onehot', OneHotEncoder(sparse=False, handle_unknown='ignore'), onehot_ftrs),\n",
    "        ('std', StandardScaler(), std_ftrs)\n",
    "    ]\n",
    ")"
   ]
  },
  {
   "cell_type": "code",
   "execution_count": 76,
   "id": "a5d54084",
   "metadata": {},
   "outputs": [],
   "source": [
    "mod = Pipeline(steps=[('preprocessor', preprocessor)])\n",
    "mod.fit(X_train,y_train)\n",
    "\n",
    "X_train_prep = pd.DataFrame(mod.fit_transform(X_train)) \n",
    "X_test_prep = pd.DataFrame(mod.transform(X_test))\n",
    "X_val_prep = pd.DataFrame(mod.transform(X_val))\n",
    "\n",
    "#extracting column names and replacing\n",
    "column_names = mod.steps[0][1].get_feature_names_out()\n",
    "X_train_df = pd.DataFrame(X_train_prep)\n",
    "X_train_df.columns = column_names\n",
    "# print(X_train_df)"
   ]
  },
  {
   "cell_type": "code",
   "execution_count": 77,
   "id": "a0d34a00",
   "metadata": {},
   "outputs": [
    {
     "name": "stdout",
     "output_type": "stream",
     "text": [
      "X_train shape after preprocessing: (15459, 75)\n",
      "X_val shape after preprocessing: (5153, 75)\n",
      "X_test shape after preprocessing: (5154, 75)\n"
     ]
    }
   ],
   "source": [
    "print('X_train shape after preprocessing:', X_train_prep.shape)\n",
    "print('X_val shape after preprocessing:', X_val_prep.shape)\n",
    "print('X_test shape after preprocessing:', X_test_prep.shape)"
   ]
  },
  {
   "cell_type": "markdown",
   "id": "dd10afda",
   "metadata": {},
   "source": [
    "### ML Pipeline"
   ]
  },
  {
   "cell_type": "code",
   "execution_count": 8,
   "id": "160a79f1",
   "metadata": {},
   "outputs": [],
   "source": [
    "#feature selection\n",
    "X = df.loc[:, ((df.columns != \"distress_score\"))]\n",
    "y = df[\"distress_score\"]"
   ]
  },
  {
   "cell_type": "code",
   "execution_count": 8,
   "id": "9efa27bb",
   "metadata": {},
   "outputs": [],
   "source": [
    "#list of our features by what transformer they need\n",
    "onehot_ftrs = ['state', 'census_region', 'community_class']\n",
    "\n",
    "std_ftrs = ['total_population', '%_adults_wo_hs', 'poverty_rate', \\\n",
    "            '%_adults_not_employed', 'vacancy_rate', 'median_income_ratio', \\\n",
    "            '%_change_in_employment', '%_change_in_establishments', \\\n",
    "            '%_pop_non_hispanic_white', '%_pop_hispanic_or_latino', \\\n",
    "            '%_pop_black_or_african_american', '%_pop_american_indian_or_alaska_native', \\\n",
    "            '%_pop_asian_or_pacific_islander', '%_pop_other_race', '%_pop_foreign_born', \\\n",
    "            '%_pop_bachelors_degree_or_higher']\n",
    "\n",
    "\n",
    "#collecting all the encoders\n",
    "preprocessor = ColumnTransformer(\n",
    "    transformers=[\n",
    "        ('onehot', OneHotEncoder(sparse=False, handle_unknown='ignore'), onehot_ftrs),\n",
    "        ('std', StandardScaler(), std_ftrs)\n",
    "    ]\n",
    ")\n",
    "#for now we only preprocess, later we will add other steps here\n",
    "prep = Pipeline(steps=[('preprocessor', preprocessor)])"
   ]
  },
  {
   "cell_type": "code",
   "execution_count": 9,
   "id": "8a29f5bb",
   "metadata": {},
   "outputs": [],
   "source": [
    "#main function for models\n",
    "def MLpipe_RMSE(X, y, model, param_grid):\n",
    "    nr_states = 5\n",
    "    test_scores = np.zeros(nr_states)\n",
    "    final_models = []\n",
    "    final_models_test_set = []\n",
    "    final_models_test_set_y = []\n",
    "    final_models_test_set_pred = []\n",
    "    baseline_scores = np.zeros(nr_states)\n",
    "    baseline_std = np.zeros(nr_states)\n",
    "\n",
    "    # loop through the different random states\n",
    "    for i in range(nr_states):\n",
    "        print('randoms state '+str(i+1))\n",
    "\n",
    "        #first split to separate out the training set\n",
    "        X_train, X_other, y_train, y_other = train_test_split(X,y,train_size = 0.6,shuffle=True,random_state=42*i)\n",
    "        \n",
    "        #second split to separate out the validation and test sets\n",
    "        X_val, X_test, y_val, y_test = train_test_split(X_other,y_other,train_size = 0.5,shuffle=True,random_state=42*i)\n",
    "        \n",
    "        #preprocess the sets\n",
    "        X_train_prep = prep.fit_transform(X_train)\n",
    "        X_val_prep = prep.transform(X_val)\n",
    "        X_test_prep = prep.transform(X_test)\n",
    "\n",
    "        #the validation scores are necessary to select the best model\n",
    "        val_score = np.zeros(len(ParameterGrid(param_grid)))\n",
    "        models = []\n",
    "        \n",
    "        #calculating a baseline score for each model\n",
    "        y_bar = np.mean(y_test)\n",
    "        y_bar = np.repeat(y_bar, len(y_test))\n",
    "        baseline = np.sqrt(mean_squared_error(y_test, y_bar))\n",
    "        baseline_scores[i] = baseline\n",
    "        baseline_std[i] = np.std(y_test)\n",
    "        print('Baseline RMSE score:', baseline_scores[i])\n",
    "\n",
    "\n",
    "        #loop through all combinations of hyperparameter combos\n",
    "        for p in range(len(ParameterGrid(param_grid))):\n",
    "            params = ParameterGrid(param_grid)[p]\n",
    "            if model in [Lasso, Ridge, ElasticNet, RandomForestRegressor]:\n",
    "                mod = model(**params,random_state=42*i)\n",
    "            elif model == RandomForestRegressor:\n",
    "                mod = model(**params, random_state=42*i, n_estimators=100)\n",
    "            else:\n",
    "                mod = model(**params)\n",
    "            #fitting the model\n",
    "            mod.fit(X_train_prep, y_train)\n",
    "            models.append(mod)\n",
    "            \n",
    "            #calculate train and validation Root Mean Square Error scores\n",
    "            y_val_pred = mod.predict(X_val_prep)\n",
    "            val_score[p] = np.sqrt(mean_squared_error(y_val,y_val_pred))\n",
    "        \n",
    "        \n",
    "        #print out model parameters\n",
    "        print('best model parameters:',ParameterGrid(param_grid)[np.argmin(val_score)])\n",
    "        print('corresponding validation score:',np.min(val_score))\n",
    "        #collect and save the best model\n",
    "        final_models.append(models[np.argmin(val_score)])\n",
    "\n",
    "        #calculate and save the test score\n",
    "        y_test_pred = final_models[-1].predict(X_test_prep)\n",
    "        test_scores[i] = np.sqrt(mean_squared_error(y_test,y_test_pred))\n",
    "        print('RMSE_test_score:',test_scores[i])\n",
    "        print('the score is {} standard deviations from the baseline'.format((baseline_scores[i]-test_scores[i])/baseline_std[i]))\n",
    "        print('\\n')\n",
    "    \n",
    "    \n",
    "    mean_test_score = np.average(test_scores)\n",
    "    std_test_score = np.std(test_scores)\n",
    "    baseline_mean = np.average(baseline_scores)\n",
    "    baseline_std = np.average(baseline_std)\n",
    "    best_final_models=final_models[np.argmin(test_scores)]\n",
    "    best_scores=test_scores[np.argmin(test_scores)]\n",
    "    stddev_away = (baseline_mean-mean_test_score)/baseline_std\n",
    "    \n",
    "    #print out mean and std of test scores\n",
    "    print('mean of RMSE test scores:', mean_test_score)\n",
    "    print('standard deviation of RMSE test scores:', std_test_score)\n",
    "    print('mean of baseline RMSE is:', baseline_mean)\n",
    "    print('the score is {} standard deviations from the baseline'.format((np.mean(baseline_scores)-np.mean(test_scores))/np.mean(baseline_std)))\n",
    "\n",
    "    \n",
    "    return mean_test_score, std_test_score, baseline_mean, baseline_std, stddev_away, best_final_models, best_scores\n",
    "    "
   ]
  },
  {
   "cell_type": "code",
   "execution_count": 10,
   "id": "0972d488",
   "metadata": {},
   "outputs": [
    {
     "name": "stdout",
     "output_type": "stream",
     "text": [
      "randoms state 1\n",
      "Baseline RMSE score: 29.057803434928164\n",
      "best model parameters: {'max_iter': 1000, 'alpha': 2.154434690031882}\n",
      "corresponding validation score: 11.882681828162058\n",
      "RMSE_test_score: 11.646984110331438\n",
      "the score is 0.5991787838879973 standard deviations from the baseline\n",
      "\n",
      "\n",
      "randoms state 2\n",
      "Baseline RMSE score: 29.07422030193\n",
      "best model parameters: {'max_iter': 1000, 'alpha': 0.004641588833612777}\n",
      "corresponding validation score: 10.837487999145\n",
      "RMSE_test_score: 11.160139799728956\n",
      "the score is 0.6161499884147151 standard deviations from the baseline\n",
      "\n",
      "\n",
      "randoms state 3\n",
      "Baseline RMSE score: 28.53857707295082\n",
      "best model parameters: {'max_iter': 1000, 'alpha': 2.154434690031882}\n",
      "corresponding validation score: 11.724385103348459\n",
      "RMSE_test_score: 11.506469390871787\n",
      "the score is 0.5968099824508157 standard deviations from the baseline\n",
      "\n",
      "\n",
      "randoms state 4\n",
      "Baseline RMSE score: 29.244816998498777\n",
      "best model parameters: {'max_iter': 1000, 'alpha': 0.021544346900318832}\n",
      "corresponding validation score: 11.148594162349175\n",
      "RMSE_test_score: 10.41076513628011\n",
      "the score is 0.6440133259573986 standard deviations from the baseline\n",
      "\n",
      "\n",
      "randoms state 5\n",
      "Baseline RMSE score: 28.929793020209416\n",
      "best model parameters: {'max_iter': 1000, 'alpha': 0.001}\n",
      "corresponding validation score: 10.851497312989425\n",
      "RMSE_test_score: 10.79386807461901\n",
      "the score is 0.6268943899087435 standard deviations from the baseline\n",
      "\n",
      "\n",
      "mean of RMSE test scores: 11.10364530236626\n",
      "standard deviation of RMSE test scores: 0.4553505880395754\n",
      "mean of baseline RMSE is: 28.969042165703435\n",
      "the score is 0.616706509008713 standard deviations from the baseline\n"
     ]
    }
   ],
   "source": [
    "#Lasso\n",
    "model = Lasso\n",
    "\n",
    "#params for lasso\n",
    "param_grid = {\n",
    "    'alpha': np.logspace(-3,3,10),\n",
    "    'max_iter':[1000]}\n",
    "\n",
    "lasso_mean, lasso_std, lasso_baseline_mean, lasso_baseline_std, lasso_stddev_away, lasso_best_models, lasso_best_RMSE = MLpipe_RMSE(\n",
    "    X, y, model, param_grid)"
   ]
  },
  {
   "cell_type": "code",
   "execution_count": 6,
   "id": "a66fd9e2",
   "metadata": {},
   "outputs": [],
   "source": [
    "all_lasso_test_scores = [\n",
    "    11.646984110331438, 11.506469390871787, 11.506469390871787, 10.41076513628011, 10.79386807461901\n",
    "]"
   ]
  },
  {
   "cell_type": "code",
   "execution_count": 12,
   "id": "2eb80931",
   "metadata": {},
   "outputs": [
    {
     "name": "stdout",
     "output_type": "stream",
     "text": [
      "randoms state 1\n",
      "Baseline RMSE score: 29.057803434928164\n",
      "best model parameters: {'max_iter': 1000, 'alpha': 1000.0}\n",
      "corresponding validation score: 11.995055692485163\n",
      "RMSE_test_score: 10.927371345197274\n",
      "the score is 0.6239436552846139 standard deviations from the baseline\n",
      "\n",
      "\n",
      "randoms state 2\n",
      "Baseline RMSE score: 29.07422030193\n",
      "best model parameters: {'max_iter': 1000, 'alpha': 46.41588833612773}\n",
      "corresponding validation score: 10.836174396950728\n",
      "RMSE_test_score: 11.162886840654245\n",
      "the score is 0.6160555046797512 standard deviations from the baseline\n",
      "\n",
      "\n",
      "randoms state 3\n",
      "Baseline RMSE score: 28.53857707295082\n",
      "best model parameters: {'max_iter': 1000, 'alpha': 1000.0}\n",
      "corresponding validation score: 11.859814757426934\n",
      "RMSE_test_score: 10.823611995794376\n",
      "the score is 0.6207375032004271 standard deviations from the baseline\n",
      "\n",
      "\n",
      "randoms state 4\n",
      "Baseline RMSE score: 29.244816998498777\n",
      "best model parameters: {'max_iter': 1000, 'alpha': 215.44346900318823}\n",
      "corresponding validation score: 11.148779374805056\n",
      "RMSE_test_score: 10.39702331066179\n",
      "the score is 0.6444832152242396 standard deviations from the baseline\n",
      "\n",
      "\n",
      "randoms state 5\n",
      "Baseline RMSE score: 28.929793020209416\n",
      "best model parameters: {'max_iter': 1000, 'alpha': 0.46415888336127775}\n",
      "corresponding validation score: 10.851053729287695\n",
      "RMSE_test_score: 10.794112399237873\n",
      "the score is 0.6268859444760819 standard deviations from the baseline\n",
      "\n",
      "\n",
      "mean of RMSE test scores: 10.821001178309112\n",
      "standard deviation of RMSE test scores: 0.24847030952757268\n",
      "mean of baseline RMSE is: 28.969042165703435\n",
      "the score is 0.626463273572775 standard deviations from the baseline\n"
     ]
    }
   ],
   "source": [
    "#Ridge\n",
    "model = Ridge\n",
    "\n",
    "#params for Ridge\n",
    "param_grid = {\n",
    "    'alpha': np.logspace(-3,3,10),\n",
    "    'max_iter':[1000]}\n",
    "\n",
    "ridge_mean, ridge_std, ridge_baseline_mean, ridge_baseline_std, ridge_stddev_away, ridge_best_models, ridge_best_RMSE = MLpipe_RMSE(\n",
    "    X, y, model, param_grid)"
   ]
  },
  {
   "cell_type": "code",
   "execution_count": 7,
   "id": "dcddd4ae",
   "metadata": {},
   "outputs": [],
   "source": [
    "all_ridge_test_scores = [\n",
    "    10.927371345197274, 11.162886840654245, 10.823611995794376, 10.39702331066179, 10.794112399237873\n",
    "]"
   ]
  },
  {
   "cell_type": "code",
   "execution_count": 13,
   "id": "60f6b52d",
   "metadata": {},
   "outputs": [
    {
     "name": "stdout",
     "output_type": "stream",
     "text": [
      "randoms state 1\n",
      "Baseline RMSE score: 29.057803434928164\n",
      "best model parameters: {'l1_ratio': 0.8888888888888888, 'alpha': 0.5994842503189409}\n",
      "corresponding validation score: 11.942942553112363\n",
      "RMSE_test_score: 11.140498199052265\n",
      "the score is 0.6166090728777825 standard deviations from the baseline\n",
      "\n",
      "\n",
      "randoms state 2\n",
      "Baseline RMSE score: 29.07422030193\n",
      "best model parameters: {'l1_ratio': 0.1111111111111111, 'alpha': 0.01}\n",
      "corresponding validation score: 10.8367100625927\n",
      "RMSE_test_score: 11.175491687283309\n",
      "the score is 0.6156219643647174 standard deviations from the baseline\n",
      "\n",
      "\n",
      "randoms state 3\n",
      "Baseline RMSE score: 28.53857707295082\n",
      "best model parameters: {'l1_ratio': 0.8888888888888888, 'alpha': 0.5994842503189409}\n",
      "corresponding validation score: 11.78459210119598\n",
      "RMSE_test_score: 11.016114427233177\n",
      "the score is 0.613992162290587 standard deviations from the baseline\n",
      "\n",
      "\n",
      "randoms state 4\n",
      "Baseline RMSE score: 29.244816998498777\n",
      "best model parameters: {'l1_ratio': 0.7777777777777777, 'alpha': 0.01}\n",
      "corresponding validation score: 11.145590845246865\n",
      "RMSE_test_score: 10.381742287931212\n",
      "the score is 0.6450057359406921 standard deviations from the baseline\n",
      "\n",
      "\n",
      "randoms state 5\n",
      "Baseline RMSE score: 28.929793020209416\n",
      "best model parameters: {'l1_ratio': 0.8888888888888888, 'alpha': 0.01}\n",
      "corresponding validation score: 10.867271021884733\n",
      "RMSE_test_score: 10.812229234516957\n",
      "the score is 0.626259709948015 standard deviations from the baseline\n",
      "\n",
      "\n",
      "mean of RMSE test scores: 10.905215167203384\n",
      "standard deviation of RMSE test scores: 0.2909901672801793\n",
      "mean of baseline RMSE is: 28.969042165703435\n",
      "the score is 0.6235562396290026 standard deviations from the baseline\n"
     ]
    }
   ],
   "source": [
    "#ElasticNet\n",
    "model = ElasticNet\n",
    "\n",
    "#params for elasticnet\n",
    "param_grid = {\n",
    "    'alpha': np.logspace(-2,2,10),\n",
    "    'l1_ratio': np.linspace(0,1,10)[1:-1]}\n",
    "\n",
    "en_mean, en_std, en_baseline_mean, en_baseline_std, en_stddev_away, en_best_models, en_best_RMSE = MLpipe_RMSE(\n",
    "    X, y, model, param_grid)"
   ]
  },
  {
   "cell_type": "code",
   "execution_count": 8,
   "id": "ce209bfe",
   "metadata": {},
   "outputs": [],
   "source": [
    "all_en_test_scores = [\n",
    "    11.140498199052265, 11.175491687283309, 11.016114427233177, 10.381742287931212, 10.812229234516957\n",
    "]"
   ]
  },
  {
   "cell_type": "code",
   "execution_count": 14,
   "id": "69ab6ef7",
   "metadata": {},
   "outputs": [
    {
     "name": "stdout",
     "output_type": "stream",
     "text": [
      "randoms state 1\n",
      "Baseline RMSE score: 29.057803434928164\n",
      "best model parameters: {'max_features': 0.5, 'max_depth': 30}\n",
      "corresponding validation score: 3.2001350876602395\n",
      "RMSE_test_score: 3.1345751411757767\n",
      "the score is 0.8921262184116799 standard deviations from the baseline\n",
      "\n",
      "\n",
      "randoms state 2\n",
      "Baseline RMSE score: 29.07422030193\n",
      "best model parameters: {'max_features': 0.5, 'max_depth': 30}\n",
      "corresponding validation score: 3.1600984593295043\n",
      "RMSE_test_score: 3.1336584096431945\n",
      "the score is 0.892218660479945 standard deviations from the baseline\n",
      "\n",
      "\n",
      "randoms state 3\n",
      "Baseline RMSE score: 28.53857707295082\n",
      "best model parameters: {'max_features': 0.5, 'max_depth': 30}\n",
      "corresponding validation score: 3.123603287700386\n",
      "RMSE_test_score: 3.220067685093774\n",
      "the score is 0.8871678963929218 standard deviations from the baseline\n",
      "\n",
      "\n",
      "randoms state 4\n",
      "Baseline RMSE score: 29.244816998498777\n",
      "best model parameters: {'max_features': 0.5, 'max_depth': 30}\n",
      "corresponding validation score: 3.1410310896320848\n",
      "RMSE_test_score: 3.0466022057685875\n",
      "the score is 0.8958242000308986 standard deviations from the baseline\n",
      "\n",
      "\n",
      "randoms state 5\n",
      "Baseline RMSE score: 28.929793020209416\n",
      "best model parameters: {'max_features': 0.5, 'max_depth': 30}\n",
      "corresponding validation score: 3.0999883261957573\n",
      "RMSE_test_score: 3.159567737881243\n",
      "the score is 0.8907849864091986 standard deviations from the baseline\n",
      "\n",
      "\n",
      "mean of RMSE test scores: 3.1388942359125154\n",
      "standard deviation of RMSE test scores: 0.055821877108869176\n",
      "mean of baseline RMSE is: 28.969042165703435\n",
      "the score is 0.8916465992227846 standard deviations from the baseline\n"
     ]
    }
   ],
   "source": [
    "#RandomForestRegressor\n",
    "model = RandomForestRegressor\n",
    "\n",
    "#params for randomforestregressor\n",
    "param_grid = {\n",
    "    'max_depth': [1,3,10,30,70],\n",
    "    'max_features': [0.25, 0.5,0.75,1.0]} \n",
    "\n",
    "rf_mean, rf_std, rf_baseline_mean, rf_baseline_std, rf_stddev_away, rf_best_models, rf_best_RMSE = MLpipe_RMSE(\n",
    "    X, y, model, param_grid)"
   ]
  },
  {
   "cell_type": "code",
   "execution_count": 135,
   "id": "4516ee5c",
   "metadata": {},
   "outputs": [
    {
     "name": "stdout",
     "output_type": "stream",
     "text": [
      "Stored 'rf_best_models' (RandomForestRegressor)\n"
     ]
    }
   ],
   "source": [
    "#storing the best performing model\n",
    "%store rf_best_models"
   ]
  },
  {
   "cell_type": "code",
   "execution_count": 9,
   "id": "e67325f5",
   "metadata": {},
   "outputs": [],
   "source": [
    "all_rf_test_scores = [\n",
    "    3.1345751411757767, 3.1336584096431945, 3.220067685093774, 3.0466022057685875, 3.159567737881243\n",
    "]"
   ]
  },
  {
   "cell_type": "code",
   "execution_count": 15,
   "id": "71984a15",
   "metadata": {},
   "outputs": [
    {
     "name": "stdout",
     "output_type": "stream",
     "text": [
      "randoms state 1\n",
      "Baseline RMSE score: 29.057803434928164\n",
      "best model parameters: {'n_neighbors': 13}\n",
      "corresponding validation score: 7.7609796067146455\n",
      "RMSE_test_score: 7.960995743832134\n",
      "the score is 0.7260289903997758 standard deviations from the baseline\n",
      "\n",
      "\n",
      "randoms state 2\n",
      "Baseline RMSE score: 29.07422030193\n",
      "best model parameters: {'n_neighbors': 9}\n",
      "corresponding validation score: 8.145749943884057\n",
      "RMSE_test_score: 8.1471841918523\n",
      "the score is 0.719779787480269 standard deviations from the baseline\n",
      "\n",
      "\n",
      "randoms state 3\n",
      "Baseline RMSE score: 28.53857707295082\n",
      "best model parameters: {'n_neighbors': 13}\n",
      "corresponding validation score: 7.772048900282973\n",
      "RMSE_test_score: 7.828052979237715\n",
      "the score is 0.7257027580867993 standard deviations from the baseline\n",
      "\n",
      "\n",
      "randoms state 4\n",
      "Baseline RMSE score: 29.244816998498777\n",
      "best model parameters: {'n_neighbors': 13}\n",
      "corresponding validation score: 7.83004669662097\n",
      "RMSE_test_score: 8.041097222772962\n",
      "the score is 0.7250419716018146 standard deviations from the baseline\n",
      "\n",
      "\n",
      "randoms state 5\n",
      "Baseline RMSE score: 28.929793020209416\n",
      "best model parameters: {'n_neighbors': 13}\n",
      "corresponding validation score: 8.111474839844586\n",
      "RMSE_test_score: 7.995920816108874\n",
      "the score is 0.7236094703296638 standard deviations from the baseline\n",
      "\n",
      "\n",
      "mean of RMSE test scores: 7.9946501907607965\n",
      "standard deviation of RMSE test scores: 0.10422362059133963\n",
      "mean of baseline RMSE is: 28.969042165703435\n",
      "the score is 0.7240278037143494 standard deviations from the baseline\n"
     ]
    }
   ],
   "source": [
    "#KNeighborRegressor\n",
    "model = KNeighborsRegressor\n",
    "\n",
    "#params for kneighborsregressor\n",
    "param_grid = {\n",
    "   'n_neighbors': np.arange(1,20,4)}\n",
    "\n",
    "knn_mean, knn_std, knn_baseline_mean, knn_baseline_std, knn_stddev_away, knn_best_models, knn_best_RMSE = MLpipe_RMSE(\n",
    "    X, y, model, param_grid)"
   ]
  },
  {
   "cell_type": "code",
   "execution_count": 10,
   "id": "04c4ab63",
   "metadata": {},
   "outputs": [],
   "source": [
    "all_knn_test_scores = [\n",
    "    7.960995743832134, 8.1471841918523, 7.828052979237715, 8.041097222772962, 7.995920816108874\n",
    "]"
   ]
  },
  {
   "cell_type": "code",
   "execution_count": 16,
   "id": "6f875de8",
   "metadata": {},
   "outputs": [
    {
     "name": "stdout",
     "output_type": "stream",
     "text": [
      "randoms state 1\n",
      "Baseline RMSE score: 29.057803434928164\n",
      "best model parameters: {'gamma': 0.1, 'C': 10.0}\n",
      "corresponding validation score: 3.9986597313741443\n",
      "RMSE_test_score: 4.131276181081323\n",
      "the score is 0.8578255858075139 standard deviations from the baseline\n",
      "\n",
      "\n",
      "randoms state 2\n",
      "Baseline RMSE score: 29.07422030193\n",
      "best model parameters: {'gamma': 0.1, 'C': 10.0}\n",
      "corresponding validation score: 4.230507701447243\n",
      "RMSE_test_score: 4.074153696125322\n",
      "the score is 0.8598705776520902 standard deviations from the baseline\n",
      "\n",
      "\n",
      "randoms state 3\n",
      "Baseline RMSE score: 28.53857707295082\n",
      "best model parameters: {'gamma': 0.1, 'C': 10.0}\n",
      "corresponding validation score: 4.000955070938915\n",
      "RMSE_test_score: 3.887837950333525\n",
      "the score is 0.8637690330391959 standard deviations from the baseline\n",
      "\n",
      "\n",
      "randoms state 4\n",
      "Baseline RMSE score: 29.244816998498777\n",
      "best model parameters: {'gamma': 0.1, 'C': 10.0}\n",
      "corresponding validation score: 3.8605503218719703\n",
      "RMSE_test_score: 3.7066909907380983\n",
      "the score is 0.8732530625536697 standard deviations from the baseline\n",
      "\n",
      "\n",
      "randoms state 5\n",
      "Baseline RMSE score: 28.929793020209416\n",
      "best model parameters: {'gamma': 0.1, 'C': 10.0}\n",
      "corresponding validation score: 3.9899218753888666\n",
      "RMSE_test_score: 3.9179190898810603\n",
      "the score is 0.8645714787124772 standard deviations from the baseline\n",
      "\n",
      "\n",
      "mean of RMSE test scores: 3.9435755816318654\n",
      "standard deviation of RMSE test scores: 0.1497741015883375\n",
      "mean of baseline RMSE is: 28.969042165703435\n",
      "the score is 0.8638693140396378 standard deviations from the baseline\n"
     ]
    }
   ],
   "source": [
    "#SVR\n",
    "model = SVR\n",
    "\n",
    "#params for svr\n",
    "param_grid = {\n",
    "   'gamma': [1e-1, 1e1, 1e3],\n",
    "   'C': [1e-1, 1e0, 1e1]}\n",
    "\n",
    "svr_mean, svr_std, svr_baseline_mean, svr_baseline_std, svr_stddev_away, svr_best_models, svr_best_RMSE = MLpipe_RMSE(\n",
    "    X, y, model, param_grid)"
   ]
  },
  {
   "cell_type": "code",
   "execution_count": 11,
   "id": "5c62fc86",
   "metadata": {},
   "outputs": [],
   "source": [
    "all_svr_test_scores = [\n",
    "    4.131276181081323, 4.074153696125322, 3.887837950333525, 3.7066909907380983, 3.9179190898810603\n",
    "]"
   ]
  },
  {
   "cell_type": "markdown",
   "id": "5aff696d",
   "metadata": {},
   "source": [
    "### Results"
   ]
  },
  {
   "cell_type": "markdown",
   "id": "1b4656a1",
   "metadata": {},
   "source": [
    "#### Variation between Random States for each Model"
   ]
  },
  {
   "cell_type": "code",
   "execution_count": 12,
   "id": "1b2763f7",
   "metadata": {},
   "outputs": [],
   "source": [
    "#collecting all test scores for each random state for each model in a df\n",
    "all_models_df = pd.DataFrame({\n",
    "    'lasso': all_lasso_test_scores,\n",
    "    'ridge': all_ridge_test_scores,\n",
    "    'elasticnet': all_en_test_scores,\n",
    "    'randomforest': all_rf_test_scores,\n",
    "    'knn': all_knn_test_scores,\n",
    "    'svr': all_svr_test_scores})"
   ]
  },
  {
   "cell_type": "code",
   "execution_count": 13,
   "id": "9d4834a0",
   "metadata": {},
   "outputs": [],
   "source": [
    "#adjusting the index so that it matches the row's random state that produced the scores\n",
    "all_models_df.index = np.arange(1, len(all_models_df) + 1)"
   ]
  },
  {
   "cell_type": "code",
   "execution_count": 51,
   "id": "b5c1b11a",
   "metadata": {},
   "outputs": [
    {
     "data": {
      "text/html": [
       "<div>\n",
       "<style scoped>\n",
       "    .dataframe tbody tr th:only-of-type {\n",
       "        vertical-align: middle;\n",
       "    }\n",
       "\n",
       "    .dataframe tbody tr th {\n",
       "        vertical-align: top;\n",
       "    }\n",
       "\n",
       "    .dataframe thead th {\n",
       "        text-align: right;\n",
       "    }\n",
       "</style>\n",
       "<table border=\"1\" class=\"dataframe\">\n",
       "  <thead>\n",
       "    <tr style=\"text-align: right;\">\n",
       "      <th></th>\n",
       "      <th>lasso</th>\n",
       "      <th>ridge</th>\n",
       "      <th>elasticnet</th>\n",
       "      <th>randomforest</th>\n",
       "      <th>knn</th>\n",
       "      <th>svr</th>\n",
       "    </tr>\n",
       "  </thead>\n",
       "  <tbody>\n",
       "    <tr>\n",
       "      <th>1</th>\n",
       "      <td>11.646984</td>\n",
       "      <td>10.927371</td>\n",
       "      <td>11.140498</td>\n",
       "      <td>3.134575</td>\n",
       "      <td>7.960996</td>\n",
       "      <td>4.131276</td>\n",
       "    </tr>\n",
       "    <tr>\n",
       "      <th>2</th>\n",
       "      <td>11.506469</td>\n",
       "      <td>11.162887</td>\n",
       "      <td>11.175492</td>\n",
       "      <td>3.133658</td>\n",
       "      <td>8.147184</td>\n",
       "      <td>4.074154</td>\n",
       "    </tr>\n",
       "    <tr>\n",
       "      <th>3</th>\n",
       "      <td>11.506469</td>\n",
       "      <td>10.823612</td>\n",
       "      <td>11.016114</td>\n",
       "      <td>3.220068</td>\n",
       "      <td>7.828053</td>\n",
       "      <td>3.887838</td>\n",
       "    </tr>\n",
       "    <tr>\n",
       "      <th>4</th>\n",
       "      <td>10.410765</td>\n",
       "      <td>10.397023</td>\n",
       "      <td>10.381742</td>\n",
       "      <td>3.046602</td>\n",
       "      <td>8.041097</td>\n",
       "      <td>3.706691</td>\n",
       "    </tr>\n",
       "    <tr>\n",
       "      <th>5</th>\n",
       "      <td>10.793868</td>\n",
       "      <td>10.794112</td>\n",
       "      <td>10.812229</td>\n",
       "      <td>3.159568</td>\n",
       "      <td>7.995921</td>\n",
       "      <td>3.917919</td>\n",
       "    </tr>\n",
       "  </tbody>\n",
       "</table>\n",
       "</div>"
      ],
      "text/plain": [
       "       lasso      ridge  elasticnet  randomforest       knn       svr\n",
       "1  11.646984  10.927371   11.140498      3.134575  7.960996  4.131276\n",
       "2  11.506469  11.162887   11.175492      3.133658  8.147184  4.074154\n",
       "3  11.506469  10.823612   11.016114      3.220068  7.828053  3.887838\n",
       "4  10.410765  10.397023   10.381742      3.046602  8.041097  3.706691\n",
       "5  10.793868  10.794112   10.812229      3.159568  7.995921  3.917919"
      ]
     },
     "execution_count": 51,
     "metadata": {},
     "output_type": "execute_result"
    }
   ],
   "source": [
    "all_models_df"
   ]
  },
  {
   "cell_type": "code",
   "execution_count": 69,
   "id": "2425f9aa",
   "metadata": {},
   "outputs": [
    {
     "data": {
      "image/png": "[encoded data removed]",
      "text/plain": [
       "<Figure size 640x480 with 1 Axes>"
      ]
     },
     "metadata": {},
     "output_type": "display_data"
    }
   ],
   "source": [
    "#visualization for variability in test scores between random states and models\n",
    "# sns.reset_defaults()\n",
    "sns.set_style(\"whitegrid\")\n",
    "# sns.set_palette(\"ch:s=-.2,r=.6\")\n",
    "sns.set_palette(\"rocket\")\n",
    "\n",
    "ax = sns.lineplot(data=all_models_df, dashes=False)\n",
    "sns.scatterplot(data=all_models_df, legend=False, s=60)\n",
    "ax.set_xlabel(\"Random State\")\n",
    "ax.set_ylabel(\"RMSE Score\")\n",
    "ax.set_title(\"Variability in RMSE Scores by Random State and Model\")\n",
    "plt.legend(bbox_to_anchor=(1.3, 1), loc='upper right', title='Model')\n",
    "\n",
    "plt.show()"
   ]
  },
  {
   "cell_type": "markdown",
   "id": "009a11bb",
   "metadata": {},
   "source": [
    "#### Visualizing Best Test Scores vs Baseline"
   ]
  },
  {
   "cell_type": "code",
   "execution_count": 73,
   "id": "cd5d4f00",
   "metadata": {},
   "outputs": [],
   "source": [
    "#saving all model means as a list\n",
    "model_means = []\n",
    "#all models returned same baseline mean bc of same random states\n",
    "model_means.append(lasso_baseline_mean)\n",
    "model_means.append(lasso_mean)\n",
    "model_means.append(ridge_mean)\n",
    "model_means.append(en_mean)\n",
    "model_means.append(rf_mean)\n",
    "model_means.append(knn_mean)\n",
    "model_means.append(svr_mean)\n",
    "\n",
    "#saving all model std as a list\n",
    "model_std = []\n",
    "model_std.append(lasso_std)\n",
    "model_std.append(ridge_std)\n",
    "model_std.append(en_std)\n",
    "model_std.append(rf_std)\n",
    "model_std.append(knn_std)\n",
    "model_std.append(svr_std)\n",
    "\n",
    "#saving all model standard deviations away from the baseline\n",
    "stddev_away = []\n",
    "stddev_away.append(lasso_stddev_away)\n",
    "stddev_away.append(ridge_stddev_away)\n",
    "stddev_away.append(en_stddev_away)\n",
    "stddev_away.append(rf_stddev_away)\n",
    "stddev_away.append(knn_stddev_away)\n",
    "stddev_away.append(svr_stddev_away)"
   ]
  },
  {
   "cell_type": "code",
   "execution_count": 74,
   "id": "423ebef5",
   "metadata": {},
   "outputs": [],
   "source": [
    "#storing the lists of means and standard deviations\n",
    "%store model_means\n",
    "%store model_std\n",
    "%store stddev_away"
   ]
  },
  {
   "cell_type": "code",
   "execution_count": 75,
   "id": "9f015439",
   "metadata": {},
   "outputs": [],
   "source": [
    "%store -r model_means\n",
    "%store -r model_std\n",
    "%store -r stddev_away"
   ]
  },
  {
   "cell_type": "code",
   "execution_count": 76,
   "id": "34d22850",
   "metadata": {},
   "outputs": [
    {
     "data": {
      "image/png": "[encoded data removed]",
      "text/plain": [
       "<Figure size 640x480 with 1 Axes>"
      ]
     },
     "metadata": {},
     "output_type": "display_data"
    }
   ],
   "source": [
    "#visualizing mean of test scores\n",
    "plt.barh(range(7), model_means)\n",
    "plt.yticks(range(7), [\"Baseline\", \"Lasso\", \"Ridge\", \"ElasticNet\", \"Random Forest\", \"KNN\", \"SVR\"])\n",
    "plt.xlabel(\"Mean Score\")\n",
    "plt.ylabel(\"Models\")\n",
    "plt.title(\"Mean Scores for different Models\")\n",
    "for index, value in enumerate(model_means):\n",
    "    plt.text(value, index, str(value))\n",
    "# plt.savefig('../figures/model_means.png', bbox_inches='tight')\n",
    "plt.show()"
   ]
  },
  {
   "cell_type": "code",
   "execution_count": 77,
   "id": "03e728c5",
   "metadata": {},
   "outputs": [
    {
     "data": {
      "image/png": "[encoded data removed]",
      "text/plain": [
       "<Figure size 640x480 with 1 Axes>"
      ]
     },
     "metadata": {},
     "output_type": "display_data"
    }
   ],
   "source": [
    "#visualizing standard deviation scores\n",
    "# stddev_list = [lasso_std, ridge_std, EN_std, rf_std, svr_stddev, knn_std]\n",
    "plt.barh(range(6), model_std)\n",
    "plt.yticks(range(6), [\"Lasso\", \"Ridge\", \"ElasticNet\", \"Random Forest\", \"KNN\", \"SVR\"])\n",
    "plt.xlabel(\"Standard Deviations Score\")\n",
    "plt.ylabel(\"Models\")\n",
    "plt.title(\"Standard Deviation Scores for different Models\")\n",
    "for index, value in enumerate(model_std):\n",
    "    plt.text(value, index, str(value))\n",
    "# plt.savefig('../figures/model_std.png', bbox_inches='tight')\n",
    "plt.show();"
   ]
  },
  {
   "cell_type": "code",
   "execution_count": 78,
   "id": "465fb56b",
   "metadata": {},
   "outputs": [
    {
     "data": {
      "image/png": "[encoded data removed]",
      "text/plain": [
       "<Figure size 640x480 with 1 Axes>"
      ]
     },
     "metadata": {},
     "output_type": "display_data"
    }
   ],
   "source": [
    "#visualizing standard deviations away from baseline for each model\n",
    "plt.barh(range(6), stddev_away)\n",
    "plt.yticks(range(6), [\"Lasso\", \"Ridge\", \"ElasticNet\", \"Random Forest\", \"KNN\", \"SVR\"])\n",
    "plt.xlabel(\"Standard Deviations\")\n",
    "plt.ylabel(\"Models\")\n",
    "plt.title(\"Standard Deviations away from Baseline for different Models\")\n",
    "for index, value in enumerate(stddev_away):\n",
    "    plt.text(value, index, str(value))\n",
    "# plt.savefig('../figures/model_std_from_baseline.png', bbox_inches='tight')\n",
    "plt.show();"
   ]
  },
  {
   "cell_type": "markdown",
   "id": "078b55f2",
   "metadata": {},
   "source": [
    "Interpreting the RMSE: model score says we can confidently be within <score> units to the actual distress score"
   ]
  }
 ],
 "metadata": {
  "kernelspec": {
   "display_name": "Python 3 (ipykernel)",
   "language": "python",
   "name": "python3"
  },
  "language_info": {
   "codemirror_mode": {
    "name": "ipython",
    "version": 3
   },
   "file_extension": ".py",
   "mimetype": "text/x-python",
   "name": "python",
   "nbconvert_exporter": "python",
   "pygments_lexer": "ipython3",
   "version": "3.10.5"
  }
 },
 "nbformat": 4,
 "nbformat_minor": 5
}
